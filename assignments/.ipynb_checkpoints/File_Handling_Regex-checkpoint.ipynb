{
 "cells": [
  {
   "cell_type": "markdown",
   "metadata": {
    "colab_type": "text",
    "id": "8ud7W33WiV_G"
   },
   "source": [
    "\n",
    "\n",
    "# File Handling, Regex and Exception Handling"
   ]
  },
  {
   "cell_type": "markdown",
   "metadata": {
    "colab_type": "text",
    "id": "_-h_l3Lcilz_"
   },
   "source": [
    "# Exercise Question 1\n",
    "\n",
    "Write a Python program to count the number of lines in a text file"
   ]
  },
  {
   "cell_type": "code",
   "execution_count": 1,
   "metadata": {
    "colab": {},
    "colab_type": "code",
    "id": "iJ95YEcOivBj"
   },
   "outputs": [
    {
     "name": "stdout",
     "output_type": "stream",
     "text": [
      "615\n"
     ]
    }
   ],
   "source": [
    "def count_lines(file_path):\n",
    "    with open(file_path) as f:\n",
    "        print(len(f.readlines()))\n",
    "count_lines(\"File_Handling_Regex.ipynb\")"
   ]
  },
  {
   "cell_type": "markdown",
   "metadata": {
    "colab_type": "text",
    "id": "YLjoZ6HSivsc"
   },
   "source": [
    "# Exercise Question 2\n",
    "\n",
    "Write a Python program to count the frequency of words in a file."
   ]
  },
  {
   "cell_type": "code",
   "execution_count": 3,
   "metadata": {
    "colab": {},
    "colab_type": "code",
    "id": "FlKeFZkai4vt"
   },
   "outputs": [
    {
     "name": "stdout",
     "output_type": "stream",
     "text": [
      "{'': 1401, 'read': 1, 'file': 1, 'where': 1, '\"Regex': 1, 'contains': 1, '25\\\\n\",\\n': 1, '\"File': 1, 'IP': 1, '\"kernelspec\":': 1, '\"python\",\\n': 3, 'program': 23, '\"C-E6_Al7mKSK\"\\n': 1, '\"collapsed_sections\":': 1, '\"text\",\\n': 26, '(0-9)': 1, '\"#Exercise': 3, 'search': 1, 'string\"\\n': 4, '\"2FO-GFce8sCL\"\\n': 1, 'space,': 1, \"'s'\": 1, '\"mimetype\":': 1, '13\\\\n\",\\n': 1, '\"count_lines(\\\\\"File_Handling_Regex.ipynb\\\\\")\"\\n': 1, 'text': 6, 'check': 1, 'occurring': 1, \"'z',\": 2, '18\\\\n\",\\n': 1, '1,\\n': 1, '}\\n': 3, '\"output_type\":': 1, '\"FlKeFZkai4vt\"\\n': 1, '\"GTdQmB7W6X9S\"\\n': 1, '\"codemirror_mode\":': 1, '\"pygments_lexer\":': 1, 'characters': 3, 'only': 1, 'dd-mm-yyyy': 1, ']\\n': 29, 'print(len(f.readlines()))\\\\n\",\\n': 1, 'followed': 1, '\"8a7IbmL9mA-w\"\\n': 1, '\"Zb4fMCmB6jOO\"\\n': 1, 'character': 1, '1\\n}\\n': 1, 'has': 1, '4': 1, 'validate': 1, 'capital': 1, '\"nbconvert_exporter\":': 1, 'and': 4, 'start': 3, '\"5g8X_i1NjJLd\"\\n': 1, '1\\\\n\",\\n': 1, '1,': 1, 'files': 1, '\"nbformat\":': 1, 'joined': 1, 'Handling,': 1, '\"bSDg0JuIgOx7\"\\n': 1, '6\\\\n\",\\n': 1, 'Exercise': 21, 'uppercase': 1, 'long': 1, '\"8ud7W33WiV_G\"\\n': 1, 'sequences': 1, 'format.\"\\n': 1, 'the': 12, 'colon.': 1, '7\\\\n\",\\n': 1, 'extract': 1, '\"9jOGuf_N9C9D\"\\n': 1, 'digit': 1, '2.txt,': 1, 'frequency': 1, '(Regex)\"\\n': 1, '\"text\":': 1, 'for': 1, '\"3.8.3\"\\n': 1, 'from': 1, '[\\n': 31, 'match': 2, '\"IiTtCD9ggcIc\"\\n': 1, 'with': 8, 'lowercase': 2, '\"python3\"\\n': 1, 'length': 1, '\"id\":': 50, '(Use': 8, '11\\\\n\",\\n': 1, '\"8qtC__hnmKkJ\"\\n': 1, '1': 1, '\"stream\",\\n': 1, '\"iJ95YEcOivBj\"\\n': 1, '\"Exercise': 1, 'comma,': 1, 'dot': 1, '\"ipython\",\\n': 1, '(dd/mm/yyyy)': 1, '\"ikLRZEmpkSVx\"\\n': 1, 'specific': 1, '3\",\\n': 1, 'between': 2, 'most': 1, 'numbers,': 1, 'starting': 2, '\"qCC8FDDFmAqN\"\\n': 1, 'so': 1, 'underscores\"\\n': 1, 'an': 2, 'to': 22, 'remove': 1, 'sentence\"\\n': 1, '\"M7D79C6TgoBK\"\\n': 1, 'letters,': 1, 'lines': 2, \"'n'\": 3, 'another': 1, '14\\\\n\",\\n': 1, '\"wnc02BCX8r32\"\\n': 1, 'count_lines(file_path):\\\\n\",\\n': 1, '{},\\n': 25, '8\\\\n\",\\n': 1, 'python\"\\n': 1, '5\\\\n\",\\n': 1, '\"\\\\n\",\\n': 27, 'convert': 1, '\"colab\":': 25, '\"5SU8cmlBcf_R\"\\n': 1, '\"IeviyqdZhLao\"\\n': 1, 'are': 1, 'of': 11, 'at': 6, 'format': 2, '\"GkvBh5xm1Hud\"\\n': 1, 'replace': 2, 'word': 3, 'more': 1, 'a': 49, 'date': 2, '\"cell_type\":': 51, '\"stdout\",\\n': 1, 'generate': 1, '\"source\":': 51, 'which': 1, '},\\n': 104, 'word.\"\\n': 1, \"b's\": 1, '5': 1, '],\\n': 2, 'string': 7, '10': 1, 'all': 2, 'position': 1, 'named': 1, 'Regex)\"\\n': 8, '\"name\":': 5, '3': 1, 'on': 1, '\"_S9LMMuw1YXx\"\\n': 1, 'given': 1, '\"language_info\":': 1, 'will': 1, '\"ipython3\",\\n': 1, 'address': 1, '20\\\\n\",\\n': 1, 'numbers': 1, '\"FUCkxBcL6XzB\"\\n': 1, '\"615\\\\n\"\\n': 1, 'only.\"\\n': 1, 'find': 2, '\"The': 1, 'Handling\"\\n': 1, 'up': 1, '\"ewAkKfHZkM9t\"\\n': 1, '\"CsDI7sAAzfrr\"\\n': 1, '\"1gK7P49OkciZ\"\\n': 1, '\"sT7ji0RSj94h\"\\n': 1, '10\\\\n\",\\n': 1, '15\\\\n\",\\n': 1, '\"biCR0JjolgOg\"\\n': 1, '\"-8cgtBvWgPHp\"\\n': 1, '21\\\\n\",\\n': 1, '\"cells\":': 1, '12\\\\n\",\\n': 1, '\"vm3E47gb10_d\"\\n': 1, '\"version\":': 2, '\"Write': 19, 'accepts': 1, 'that': 6, '24\\\\n\",\\n': 1, '\"text/x-python\",\\n': 1, '\"88Ce5UW4jJpM\"\\n': 1, '\"nbformat_minor\":': 1, 'count': 2, '\"qi4H7C1Ki5Os\"\\n': 1, 'Question': 25, \"'l'\": 1, '\"_-h_l3Lcilz_\"\\n': 1, 'containing': 2, '\"display_name\":': 1, '1.txt,': 1, 'freq_count(file_path):\\\\n\",\\n': 1, '\"2ndlYFhplgge\"\\n': 1, '2': 2, 'special': 2, '23\\\\n\",\\n': 1, '\"language\":': 1, 'not': 2, \"'a'\": 1, '\"code\",\\n': 49, 'numeric': 1, '\"OdC3kUkJ11O-\"\\n': 1, '\"provenance\":': 1, 'File': 1, '\"': 9, '\"gvgi9slu1HlR\"\\n': 1, 'number': 4, '\"\\n': 2, '\"execution_count\":': 25, '3\\\\n\",\\n': 1, 'last': 1, 'zero': 1, '\"cVEeH0qpkoN1\"\\n': 1, 'colon': 1, 'letters': 2, '\"7LNcCyvgg8NQ\"\\n': 1, 'file.': 1, 'Write': 3, 'data=f.split()\\\\n\",\\n': 1, '\"markdown\",\\n': 26, '19\\\\n\",\\n': 1, '[],\\n': 25, '16\\\\n\",\\n': 1, 'word.': 2, 'open(file_path)': 2, 'or': 5, '\"YLjoZ6HSivsc\"\\n': 1, 'file\"\\n': 3, '\"1VDZsLuRzf0g\"\\n': 1, '\"#': 22, 'file.\"\\n': 1, '17\\\\n\",\\n': 1, '\"-d7K_fxT9DQF\"\\n': 1, '\"JQLE1OE6gb2y\"\\n': 1, '\"G-4htu621X4i\"\\n': 1, '[]\\n': 24, '\"file_extension\":': 1, '\"Python': 2, 'spaces': 1, '\"RLVFUv2YkcwM\"\\n': 1, '4\\\\n\",\\n': 1, '3\\n': 1, '\"B4tdrq_vj-DT\"\\n': 1, '4,\\n': 1, '\"def': 2, 'enter': 2, 'words': 4, 'upper': 1, '\"3yCsLD3ShLzu\"\\n': 1, 'Handling_Regex\",\\n': 1, 'yyyy-mm-dd': 1, '\"ugBWky1ng8Dx\"\\n': 1, '\"iB_8407skn2h\"\\n': 1, 'data=f.read()\\\\n\",\\n': 1, '\"outputs\":': 25, '\"aJ8e5PkP6jTY\"\\n': 1, '\"colab_type\":': 50, '\"31YJ2muNgn40\"\\n': 1, 'put': 1, 'Exception': 1, 'null,\\n': 24, 'in': 12, 'Regex': 2, 'matches': 3, 'f:\\\\n\",\\n': 2, 'by': 1, 'least': 1, 'as': 2, '{\\n': 108, 'n.txt.\"\\n': 1, \"'w'\": 1, 'Python': 15, '2\\\\n\",\\n': 1, 'occurrences': 1, '22\\\\n\",\\n': 1, '9\\\\n\",\\n': 1, '\"metadata\":': 52, '\".py\",\\n': 1, '\"ZdaLsgZtcgJa\"\\n': 1, 'using': 1, 'python': 6, 'line': 1, 'end': 3, 'maximum': 1}\n"
     ]
    }
   ],
   "source": [
    "def freq_count(file_path):\n",
    "    words_dict={}\n",
    "    with open(file_path) as f:\n",
    "        data=f.read().split(\" \")\n",
    "        words=set(data)\n",
    "        for word in words:\n",
    "            words_dict[word]=data.count(word)\n",
    "    print(words_dict)\n",
    "freq_count(\"File_Handling_Regex.ipynb\")    "
   ]
  },
  {
   "cell_type": "markdown",
   "metadata": {
    "colab_type": "text",
    "id": "qi4H7C1Ki5Os"
   },
   "source": [
    "# Exercise Question 3\n",
    "\n",
    "Write a Python program to generate 'n' text files named 1.txt, 2.txt, and so on up to n.txt."
   ]
  },
  {
   "cell_type": "code",
   "execution_count": 7,
   "metadata": {
    "colab": {},
    "colab_type": "code",
    "id": "5g8X_i1NjJLd"
   },
   "outputs": [],
   "source": [
    "import os\n",
    "def create_n_files(n):\n",
    "    for i in range(1,n+1):\n",
    "        f=open(str(i)+\".txt\",\"w\")\n",
    "create_n_files(3)"
   ]
  },
  {
   "cell_type": "markdown",
   "metadata": {
    "colab_type": "text",
    "id": "88Ce5UW4jJpM"
   },
   "source": [
    "# Exercise Question 4\n",
    "\n",
    "Write a python program to enter a string 's' at line number 'l' in a text file. "
   ]
  },
  {
   "cell_type": "code",
   "execution_count": 27,
   "metadata": {
    "colab": {},
    "colab_type": "code",
    "id": "sT7ji0RSj94h"
   },
   "outputs": [],
   "source": [
    "def add_string(filepath,string,line):\n",
    "    fin=open(filepath,\"r\")\n",
    "    lines=fin.readlines()\n",
    "    lines[line]=string+\" \"+lines[line]\n",
    "    fin.close()\n",
    "    fout=open(filepath,\"w\")\n",
    "    fout.writelines(lines)\n",
    "    fout.close()\n",
    "\n",
    "add_string(\"vello.txt\",\"srinivas\",3)    "
   ]
  },
  {
   "cell_type": "markdown",
   "metadata": {
    "colab_type": "text",
    "id": "B4tdrq_vj-DT"
   },
   "source": [
    "# Exercise Question 5\n",
    "\n",
    "Write a python program to replace a word 'w' in a text file with another word."
   ]
  },
  {
   "cell_type": "code",
   "execution_count": 17,
   "metadata": {
    "colab": {},
    "colab_type": "code",
    "id": "ewAkKfHZkM9t"
   },
   "outputs": [],
   "source": [
    "def replace_word(filepath,word1,word2):\n",
    "    f=open(filepath,\"r\")\n",
    "    data=f.read()\n",
    "    data=data.replace(word1,word2)\n",
    "    p=open(filepath,\"w\")\n",
    "    p.write(data)\n",
    "    p.close()\n",
    "    f.close()\n",
    "replace_word(\"hello.txt\",\"hello\",\"world\")"
   ]
  },
  {
   "cell_type": "markdown",
   "metadata": {
    "colab_type": "text",
    "id": "ikLRZEmpkSVx"
   },
   "source": [
    "# Exercise Question 6\n",
    "\n",
    "Write a python program to enter a string at the position 'n' in a text file"
   ]
  },
  {
   "cell_type": "code",
   "execution_count": 28,
   "metadata": {
    "colab": {},
    "colab_type": "code",
    "id": "1gK7P49OkciZ"
   },
   "outputs": [],
   "source": [
    "def add_string(filepath,string,offset):\n",
    "    fin=open(filepath,\"r\")\n",
    "    data=fin.read()\n",
    "    data=data[:offset]+\" \"+string+\" \"+data[offset:]\n",
    "    fin.close()\n",
    "    fout=open(filepath,\"w\")\n",
    "    fout.write(data)\n",
    "    fout.close()\n",
    "add_string(\"vello.txt\",\"wonderland\",10)"
   ]
  },
  {
   "cell_type": "markdown",
   "metadata": {
    "colab_type": "text",
    "id": "RLVFUv2YkcwM"
   },
   "source": [
    "# Exercise Question 7\n",
    "\n",
    "Write a python program to read the last 'n' lines of a text file"
   ]
  },
  {
   "cell_type": "code",
   "execution_count": 25,
   "metadata": {
    "colab": {},
    "colab_type": "code",
    "id": "iB_8407skn2h",
    "scrolled": true
   },
   "outputs": [
    {
     "name": "stdout",
     "output_type": "stream",
     "text": [
      "hello world from srinivas\n",
      "hello world from srinivas\n",
      "hello world from srinivas\n"
     ]
    }
   ],
   "source": [
    "def read_last(filepath,l):\n",
    "    with open(filepath,'r') as f:\n",
    "        lines=f.readlines()\n",
    "        print(\"\".join(lines[-l:]))\n",
    "read_last(\"hello.txt\",3)"
   ]
  },
  {
   "cell_type": "code",
   "execution_count": 29,
   "metadata": {},
   "outputs": [],
   "source": [
    "import re"
   ]
  },
  {
   "cell_type": "markdown",
   "metadata": {
    "colab_type": "text",
    "id": "cVEeH0qpkoN1"
   },
   "source": [
    "# Exercise Question 8\n",
    "\n",
    "Write a Python program that matches a string that has an 'a' followed by zero or more b's (Use Regex)"
   ]
  },
  {
   "cell_type": "code",
   "execution_count": 40,
   "metadata": {
    "colab": {},
    "colab_type": "code",
    "id": "biCR0JjolgOg"
   },
   "outputs": [
    {
     "name": "stdout",
     "output_type": "stream",
     "text": [
      "['ab', 'ab', 'abbbb']\n"
     ]
    }
   ],
   "source": [
    "def match_string(string):\n",
    "    pattern=re.compile(\"ab*\")\n",
    "    match=pattern.findall(string)\n",
    "    print(match)\n",
    "match_string(\"abababbbb\")"
   ]
  },
  {
   "cell_type": "markdown",
   "metadata": {
    "colab_type": "text",
    "id": "2ndlYFhplgge"
   },
   "source": [
    "# Exercise Question 9\n",
    "\n",
    "Write a Python program to find sequences of uppercase letters joined with a colon (Use Regex)"
   ]
  },
  {
   "cell_type": "code",
   "execution_count": 142,
   "metadata": {
    "colab": {},
    "colab_type": "code",
    "id": "qCC8FDDFmAqN"
   },
   "outputs": [
    {
     "name": "stdout",
     "output_type": "stream",
     "text": [
      "['A:', 'ZB:', 'C:', 'DEFT:']\n"
     ]
    }
   ],
   "source": [
    "pattern=re.compile(\"[A-Z]*:\")\n",
    "match=pattern.findall(\"A:ZB:C:DEFT:F\")\n",
    "print(match)"
   ]
  },
  {
   "cell_type": "markdown",
   "metadata": {
    "colab_type": "text",
    "id": "8a7IbmL9mA-w"
   },
   "source": [
    "# Exercise Question 10\n",
    "\n",
    "Write a Python program that matches a word containing 'z', not at the start or end of the word. (Use Regex)"
   ]
  },
  {
   "cell_type": "code",
   "execution_count": 143,
   "metadata": {
    "colab": {},
    "colab_type": "code",
    "id": "C-E6_Al7mKSK"
   },
   "outputs": [
    {
     "name": "stdout",
     "output_type": "stream",
     "text": [
      "matched!\n",
      "Not matched!\n"
     ]
    }
   ],
   "source": [
    "def match(string):\n",
    "        pattern = '\\Bz\\B'\n",
    "        if re.search(pattern,  string):\n",
    "                return 'matched!'\n",
    "        else:\n",
    "                return('Not matched!')\n",
    "\n",
    "print(match(\"Amazing\"))\n",
    "print(match(\"hello world\"))"
   ]
  },
  {
   "cell_type": "markdown",
   "metadata": {
    "colab_type": "text",
    "id": "8qtC__hnmKkJ"
   },
   "source": [
    "# Exercise Question 11\n",
    "\n",
    " Write a Python program where a string will start with a specific number (Use Regex)"
   ]
  },
  {
   "cell_type": "code",
   "execution_count": 112,
   "metadata": {
    "colab": {},
    "colab_type": "code",
    "id": "CsDI7sAAzfrr"
   },
   "outputs": [
    {
     "data": {
      "text/plain": [
       "['7ah', '7tyeee', '76323', '7&']"
      ]
     },
     "execution_count": 112,
     "metadata": {},
     "output_type": "execute_result"
    }
   ],
   "source": [
    "pattern=re.compile(\"7[a-zA-Z0-9!@#$&()\\\\-`.+,/\\\"]*\")\n",
    "pattern.findall(\"hello 7ah 7tyeee 76323 7&\")"
   ]
  },
  {
   "cell_type": "markdown",
   "metadata": {
    "colab_type": "text",
    "id": "1VDZsLuRzf0g"
   },
   "source": [
    "# Exercise Question 12\n",
    "\n",
    "Write a Python program that matches a word containing 'z', not at the start or end of the word. (Use Regex)"
   ]
  },
  {
   "cell_type": "code",
   "execution_count": 137,
   "metadata": {
    "colab": {},
    "colab_type": "code",
    "id": "gvgi9slu1HlR"
   },
   "outputs": [
    {
     "name": "stdout",
     "output_type": "stream",
     "text": [
      "matched!\n",
      "Not matched!\n"
     ]
    }
   ],
   "source": [
    "def match(string):\n",
    "        pattern = '\\Bz\\B'\n",
    "        if re.search(pattern,  string):\n",
    "                return 'matched!'\n",
    "        else:\n",
    "                return('Not matched!')\n",
    "\n",
    "print(match(\"Amazing\"))\n",
    "print(match(\"hello world\"))"
   ]
  },
  {
   "cell_type": "markdown",
   "metadata": {
    "colab_type": "text",
    "id": "GkvBh5xm1Hud"
   },
   "source": [
    "# Exercise Question 13\n",
    "\n",
    " Write a Python program to replace maximum 2 occurrences of space, comma, or dot with a colon. (Use Regex)"
   ]
  },
  {
   "cell_type": "code",
   "execution_count": 132,
   "metadata": {
    "colab": {},
    "colab_type": "code",
    "id": "G-4htu621X4i"
   },
   "outputs": [
    {
     "data": {
      "text/plain": [
       "'hello:world:from:srivas'"
      ]
     },
     "execution_count": 132,
     "metadata": {},
     "output_type": "execute_result"
    }
   ],
   "source": [
    "string=\"hello,world:from srivas\"\n",
    "re.sub(\"[ ,.]\", \":\", string, 2)"
   ]
  },
  {
   "cell_type": "markdown",
   "metadata": {
    "colab_type": "text",
    "id": "_S9LMMuw1YXx"
   },
   "source": [
    "# Exercise Question 14\n",
    "\n",
    "Write a Python program to find all words which are at least 4 characters long in a string (Use Regex)"
   ]
  },
  {
   "cell_type": "code",
   "execution_count": 92,
   "metadata": {
    "colab": {},
    "colab_type": "code",
    "id": "vm3E47gb10_d"
   },
   "outputs": [
    {
     "data": {
      "text/plain": [
       "['srinivas', 'ramesh', 'raja']"
      ]
     },
     "execution_count": 92,
     "metadata": {},
     "output_type": "execute_result"
    }
   ],
   "source": [
    "pattern=re.compile(\"\\w{4}\\w*\")\n",
    "re.findall(pattern,\"srinivas ram ramesh raja\")"
   ]
  },
  {
   "cell_type": "markdown",
   "metadata": {
    "colab_type": "text",
    "id": "OdC3kUkJ11O-"
   },
   "source": [
    "# Exercise Question 15\n",
    "\n",
    "The most occurring number in a string using Regex in python"
   ]
  },
  {
   "cell_type": "code",
   "execution_count": 151,
   "metadata": {
    "colab": {},
    "colab_type": "code",
    "id": "FUCkxBcL6XzB"
   },
   "outputs": [
    {
     "name": "stdout",
     "output_type": "stream",
     "text": [
      "['55', '56', '33', '2', '2', '2', '2', '1', '1']\n",
      "Counter({'2': 4, '1': 2, '55': 1, '56': 1, '33': 1})\n"
     ]
    },
    {
     "data": {
      "text/plain": [
       "('2', 4)"
      ]
     },
     "execution_count": 151,
     "metadata": {},
     "output_type": "execute_result"
    }
   ],
   "source": [
    "from collections import Counter  \n",
    "def most_occuring(string):\n",
    "    pattern=re.compile(\"[0-9]+\")\n",
    "    res=pattern.findall(string)\n",
    "    print(res)\n",
    "    arr=Counter(res)\n",
    "    print(arr)\n",
    "    return arr.most_common()[0]\n",
    "\n",
    "most_occuring(\"55 56 33 2 2 2 2 1 1\")"
   ]
  },
  {
   "cell_type": "markdown",
   "metadata": {
    "colab_type": "text",
    "id": "GTdQmB7W6X9S"
   },
   "source": [
    "# Exercise Question 16\n",
    "\n",
    "Python program to validate an IP address (Regex)"
   ]
  },
  {
   "cell_type": "code",
   "execution_count": 155,
   "metadata": {
    "colab": {},
    "colab_type": "code",
    "id": "Zb4fMCmB6jOO"
   },
   "outputs": [
    {
     "name": "stdout",
     "output_type": "stream",
     "text": [
      "<re.Match object; span=(0, 13), match='192.168.43.01'>\n",
      "Good\n"
     ]
    }
   ],
   "source": [
    "ip_addr=\"192.168.43.01\"\n",
    "def validate_ip(string):\n",
    "    match=re.match(r\"^\\d{1,3}\\.\\d{1,3}\\.\\d{1,3}\\.\\d{1,3}$\",ip_addr)\n",
    "    print(match)\n",
    "    if match:\n",
    "        print(\"Good\")\n",
    "    else:\n",
    "        print(\"Bad\")\n",
    "        \n",
    "validate_ip(ip_addr)"
   ]
  },
  {
   "cell_type": "markdown",
   "metadata": {
    "colab_type": "text",
    "id": "aJ8e5PkP6jTY"
   },
   "source": [
    "# Exercise Question 17\n",
    "\n",
    "Write a program to put spaces between words starting with capital letters (Use Regex)"
   ]
  },
  {
   "cell_type": "code",
   "execution_count": 157,
   "metadata": {
    "colab": {},
    "colab_type": "code",
    "id": "wnc02BCX8r32"
   },
   "outputs": [
    {
     "data": {
      "text/plain": [
       "'Hello World'"
      ]
     },
     "execution_count": 157,
     "metadata": {},
     "output_type": "execute_result"
    }
   ],
   "source": [
    "def add_spaces(string):\n",
    "    return re.sub(r\"(\\w)([A-Z])\", r\"\\1 \\2\", string)\n",
    "add_spaces(\"HelloWorld\")"
   ]
  },
  {
   "cell_type": "markdown",
   "metadata": {
    "colab_type": "text",
    "id": "2FO-GFce8sCL"
   },
   "source": [
    "# Exercise Question 18\n",
    "\n",
    "Regex to extract a date in the format of  (dd/mm/yyyy) from a string"
   ]
  },
  {
   "cell_type": "code",
   "execution_count": 91,
   "metadata": {
    "colab": {},
    "colab_type": "code",
    "id": "9jOGuf_N9C9D"
   },
   "outputs": [
    {
     "name": "stdout",
     "output_type": "stream",
     "text": [
      "['24/07/1999', '25/09/2007']\n"
     ]
    }
   ],
   "source": [
    "def get_date(string):\n",
    "    match=re.findall(\"\\d{2}/\\d{2}/\\d{4}\",string)\n",
    "    print(match)\n",
    "    \n",
    "get_date(\"24/07/1999 is the best of 25/09/2007\")"
   ]
  },
  {
   "cell_type": "markdown",
   "metadata": {
    "colab_type": "text",
    "id": "-d7K_fxT9DQF"
   },
   "source": [
    "# Exercise Question 19\n",
    "\n",
    "Write a python program that accepts 10 digit numeric characters starting with 1, 2 or 3 only."
   ]
  },
  {
   "cell_type": "code",
   "execution_count": 90,
   "metadata": {
    "colab": {},
    "colab_type": "code",
    "id": "5SU8cmlBcf_R"
   },
   "outputs": [
    {
     "name": "stdout",
     "output_type": "stream",
     "text": [
      "None\n",
      "rejected\n"
     ]
    }
   ],
   "source": [
    "string=\"91234567890\"\n",
    "\n",
    "def get_nums(sentence):\n",
    "    match=re.match(\"[123][0-9]{9}\",string)\n",
    "    print(match)\n",
    "    if(match):\n",
    "        print(\"String accepted\")\n",
    "    else:\n",
    "        print(\"rejected\")\n",
    "get_nums(string)"
   ]
  },
  {
   "cell_type": "markdown",
   "metadata": {
    "colab_type": "text",
    "id": "ZdaLsgZtcgJa"
   },
   "source": [
    "# Exercise Question 20\n",
    "\n",
    "Write a Python program to match a string that contains only upper and lowercase letters, numbers, and underscores"
   ]
  },
  {
   "cell_type": "code",
   "execution_count": 87,
   "metadata": {
    "colab": {},
    "colab_type": "code",
    "id": "bSDg0JuIgOx7"
   },
   "outputs": [
    {
     "name": "stdout",
     "output_type": "stream",
     "text": [
      "['hello', 'worlfF', 'From', 'SRIN_IVAS']\n"
     ]
    }
   ],
   "source": [
    "string=\"hello worlfF From SRIN_IVAS\"\n",
    "\n",
    "def get_nums(sentence):\n",
    "    match=re.findall(\"\\w+\",string)\n",
    "    print(match)\n",
    "    \n",
    "get_nums(string)"
   ]
  },
  {
   "cell_type": "markdown",
   "metadata": {
    "colab_type": "text",
    "id": "-8cgtBvWgPHp"
   },
   "source": [
    "# Exercise Question 21\n",
    "\n",
    "Write a Python program to check for a special character at the end of a string"
   ]
  },
  {
   "cell_type": "code",
   "execution_count": 123,
   "metadata": {
    "colab": {},
    "colab_type": "code",
    "id": "JQLE1OE6gb2y"
   },
   "outputs": [
    {
     "name": "stdout",
     "output_type": "stream",
     "text": [
      "<re.Match object; span=(0, 5), match='hell&'>\n"
     ]
    }
   ],
   "source": [
    "pattern=re.compile(\".*[!@#$&()\\\\-`.+,/\\\"]$\")\n",
    "print(pattern.match(\"hell&\"))"
   ]
  },
  {
   "cell_type": "markdown",
   "metadata": {
    "colab_type": "text",
    "id": "IiTtCD9ggcIc"
   },
   "source": [
    "# Exercise Question 22\n",
    "\n",
    "Write a Python program to search the numbers (0-9) of length between 1 to 5 in a given string"
   ]
  },
  {
   "cell_type": "code",
   "execution_count": 85,
   "metadata": {
    "colab": {},
    "colab_type": "code",
    "id": "31YJ2muNgn40"
   },
   "outputs": [
    {
     "name": "stdout",
     "output_type": "stream",
     "text": [
      "['12', '345', '12345', '66', '12345', '2345', '2344']\n"
     ]
    }
   ],
   "source": [
    "string=\"12 345 1234566 12345 2345 2344\"\n",
    "\n",
    "def get_nums(sentence):\n",
    "    match=re.findall(\"[0-9]{1,5}\",string)\n",
    "    print(match)\n",
    "    \n",
    "get_nums(string)"
   ]
  },
  {
   "cell_type": "markdown",
   "metadata": {
    "colab_type": "text",
    "id": "M7D79C6TgoBK"
   },
   "source": [
    "# Exercise Question 23\n",
    "\n",
    "Write a Python program to convert a date of yyyy-mm-dd format to dd-mm-yyyy format."
   ]
  },
  {
   "cell_type": "code",
   "execution_count": 124,
   "metadata": {
    "colab": {},
    "colab_type": "code",
    "id": "ugBWky1ng8Dx"
   },
   "outputs": [
    {
     "name": "stdout",
     "output_type": "stream",
     "text": [
      "24-07-1999\n"
     ]
    }
   ],
   "source": [
    "def change_format(string):\n",
    "    new_string=re.sub(r'(\\d{4})-(\\d{1,2})-(\\d{1,2})', '\\\\3-\\\\2-\\\\1', string)\n",
    "    print(new_string)\n",
    "change_format(\"1999-07-24\")"
   ]
  },
  {
   "cell_type": "markdown",
   "metadata": {
    "colab_type": "text",
    "id": "7LNcCyvgg8NQ"
   },
   "source": [
    "# Exercise Question 24\n",
    "\n",
    "Write a python program to match all lowercase words in a sentence"
   ]
  },
  {
   "cell_type": "code",
   "execution_count": 76,
   "metadata": {
    "colab": {},
    "colab_type": "code",
    "id": "IeviyqdZhLao"
   },
   "outputs": [
    {
     "name": "stdout",
     "output_type": "stream",
     "text": [
      "['hello']\n",
      "['hello', 'from']\n"
     ]
    }
   ],
   "source": [
    "string=\"hello WORLD from SRiniVAS\"\n",
    "\n",
    "def get_lwords(sentence):\n",
    "    words=sentence.split()\n",
    "    lwords=list(filter(lambda x:re.match(\"\\A[a-z]+\",x),words))\n",
    "    print(lwords)\n",
    "get_lwords(string)"
   ]
  },
  {
   "cell_type": "markdown",
   "metadata": {
    "colab_type": "text",
    "id": "3yCsLD3ShLzu"
   },
   "source": [
    "# Exercise Question 25\n",
    "\n",
    " Write a Python program to remove the special characters in a string"
   ]
  },
  {
   "cell_type": "code",
   "execution_count": 62,
   "metadata": {},
   "outputs": [
    {
     "name": "stdout",
     "output_type": "stream",
     "text": [
      "helloworld\n"
     ]
    }
   ],
   "source": [
    "string=\"hello world\\b\\t\\v\"\n",
    "new_string=re.sub(\"[\\W]\",\"\",string)\n",
    "print(new_string)"
   ]
  },
  {
   "cell_type": "code",
   "execution_count": null,
   "metadata": {},
   "outputs": [],
   "source": []
  }
 ],
 "metadata": {
  "colab": {
   "collapsed_sections": [],
   "name": "File Handling_Regex",
   "provenance": []
  },
  "kernelspec": {
   "display_name": "Python 3",
   "language": "python",
   "name": "python3"
  },
  "language_info": {
   "codemirror_mode": {
    "name": "ipython",
    "version": 3
   },
   "file_extension": ".py",
   "mimetype": "text/x-python",
   "name": "python",
   "nbconvert_exporter": "python",
   "pygments_lexer": "ipython3",
   "version": "3.8.3"
  }
 },
 "nbformat": 4,
 "nbformat_minor": 1
}
