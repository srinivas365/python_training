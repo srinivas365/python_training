{
 "cells": [
  {
   "cell_type": "markdown",
   "metadata": {
    "colab_type": "text",
    "id": "k8LGz7bc5cxB"
   },
   "source": [
    "# Exercise Question 1: \n",
    "\n",
    "Print the following pattern using for loop\n",
    "\n",
    "5 4 3 2 1 \n",
    "\n",
    "4 3 2 1 \n",
    "\n",
    "3 2 1 \n",
    "\n",
    "2 1 \n",
    "\n",
    "1"
   ]
  },
  {
   "cell_type": "code",
   "execution_count": 3,
   "metadata": {
    "colab": {},
    "colab_type": "code",
    "id": "DD5jvkKn6pm1"
   },
   "outputs": [
    {
     "name": "stdout",
     "output_type": "stream",
     "text": [
      "5 4 3 2 1 \n",
      "\n",
      "4 3 2 1 \n",
      "\n",
      "3 2 1 \n",
      "\n",
      "2 1 \n",
      "\n",
      "1 \n",
      "\n"
     ]
    }
   ],
   "source": [
    "for i in range(5,0,-1):\n",
    "    for j in range(i,0,-1):\n",
    "        print(j,end=\" \")\n",
    "    print(\"\\n\")"
   ]
  },
  {
   "cell_type": "markdown",
   "metadata": {
    "colab_type": "text",
    "id": "oTOSzMVf6txn"
   },
   "source": [
    "# Exercise Question 2:\n",
    " \n",
    "Write a Python program to get the Fibonacci series between 0 to 50."
   ]
  },
  {
   "cell_type": "code",
   "execution_count": 8,
   "metadata": {
    "colab": {},
    "colab_type": "code",
    "id": "yvfgNqj18_Kw"
   },
   "outputs": [
    {
     "name": "stdout",
     "output_type": "stream",
     "text": [
      "0 1 1 2 3 5 8 13 21 34 "
     ]
    }
   ],
   "source": [
    "def fib(n):\n",
    "    a=0\n",
    "    b=1\n",
    "    c=0\n",
    "    i=0\n",
    "    while c<n:\n",
    "        print(c,end=\" \")\n",
    "        a=b\n",
    "        b=c\n",
    "        c=a+b\n",
    "        \n",
    "fib(50)"
   ]
  },
  {
   "cell_type": "markdown",
   "metadata": {
    "colab_type": "text",
    "id": "2aOVcNM89J6N"
   },
   "source": [
    "# Exercise Question 3:\n",
    "\n",
    "Write a python program to count the no of vowels in a string"
   ]
  },
  {
   "cell_type": "code",
   "execution_count": 10,
   "metadata": {
    "colab": {},
    "colab_type": "code",
    "id": "i2GC5YSX99zD"
   },
   "outputs": [
    {
     "data": {
      "text/plain": [
       "5"
      ]
     },
     "execution_count": 10,
     "metadata": {},
     "output_type": "execute_result"
    }
   ],
   "source": [
    "def count_vowels(string):\n",
    "    letters=list(string.lower())\n",
    "    count=letters.count('a')+letters.count('e')+letters.count('i') +letters.count('o')+letters.count('u')\n",
    "    return count\n",
    "\n",
    "count_vowels(\"aeiou\")"
   ]
  },
  {
   "cell_type": "markdown",
   "metadata": {
    "colab_type": "text",
    "id": "I5ikUe_R9-0p"
   },
   "source": [
    "# Exercise Question 4: \n",
    "\n",
    "Write a python program to find the 'n' largest number from a list of 'm' numbers without using any external functions."
   ]
  },
  {
   "cell_type": "code",
   "execution_count": 132,
   "metadata": {
    "colab": {},
    "colab_type": "code",
    "id": "_uVLNI7s-zWU"
   },
   "outputs": [
    {
     "name": "stdout",
     "output_type": "stream",
     "text": [
      "[2, 3, 4, 5, 6]\n",
      "4\n"
     ]
    }
   ],
   "source": [
    "def get_n_large(arr,n):\n",
    "    arr.sort\n",
    "    arr=list(set(arr))\n",
    "    print(arr)\n",
    "    print(arr[-n])\n",
    "get_n_large([5,4,2,4,6,3,2,5,3,2],3)"
   ]
  },
  {
   "cell_type": "markdown",
   "metadata": {
    "colab_type": "text",
    "id": "I3ItKFGx-02A"
   },
   "source": [
    "# Exercise Question 5:\n",
    "\n",
    "Write a python program to reverse a string"
   ]
  },
  {
   "cell_type": "code",
   "execution_count": 14,
   "metadata": {
    "colab": {},
    "colab_type": "code",
    "id": "kaSnblgG_I8l"
   },
   "outputs": [
    {
     "name": "stdout",
     "output_type": "stream",
     "text": [
      "uoiea\n"
     ]
    }
   ],
   "source": [
    "string=\"aeiou\"\n",
    "temp=list(string)\n",
    "temp.reverse()\n",
    "print(''.join(temp))"
   ]
  },
  {
   "cell_type": "markdown",
   "metadata": {
    "colab_type": "text",
    "id": "vC26f0VG_JnY"
   },
   "source": [
    "# Exercise Question 6:\n",
    "\n",
    "Write a python function to check if a number is a perfect number or not"
   ]
  },
  {
   "cell_type": "code",
   "execution_count": 65,
   "metadata": {
    "colab": {},
    "colab_type": "code",
    "id": "D5D2t6L__kEd"
   },
   "outputs": [
    {
     "name": "stdout",
     "output_type": "stream",
     "text": [
      "[1, 2, 4, 8, 16, 31, 62, 124, 248]\n"
     ]
    },
    {
     "data": {
      "text/plain": [
       "True"
      ]
     },
     "execution_count": 65,
     "metadata": {},
     "output_type": "execute_result"
    }
   ],
   "source": [
    "def isPerfect(num):\n",
    "    facts=[]\n",
    "    for i in range(1,num):\n",
    "        if num%i==0:\n",
    "            facts.append(i)\n",
    "    print(facts)\n",
    "    if sum(facts)==num:\n",
    "        return True\n",
    "    else:\n",
    "        return False\n",
    "isPerfect(496)"
   ]
  },
  {
   "cell_type": "markdown",
   "metadata": {
    "colab_type": "text",
    "id": "B2Rd7xAo_ko6"
   },
   "source": [
    "# Exercise Question 7:\n",
    "\n",
    "Write a python function that prints the first n rows of pascal's triangle."
   ]
  },
  {
   "cell_type": "code",
   "execution_count": 66,
   "metadata": {
    "colab": {},
    "colab_type": "code",
    "id": "vItduzL9_9Jk"
   },
   "outputs": [
    {
     "name": "stdout",
     "output_type": "stream",
     "text": [
      "[1]\n",
      "[1, 1]\n",
      "[1, 2, 1]\n",
      "[1, 3, 3, 1]\n",
      "[1, 4, 6, 4, 1]\n",
      "[1, 5, 10, 10, 5, 1]\n"
     ]
    },
    {
     "data": {
      "text/plain": [
       "True"
      ]
     },
     "execution_count": 66,
     "metadata": {},
     "output_type": "execute_result"
    }
   ],
   "source": [
    "def pascal_triangle(n):\n",
    "    trow = [1]\n",
    "    y = [0]\n",
    "    for x in range(max(n,0)):\n",
    "        print(trow)\n",
    "        trow=[l+r for l,r in zip(trow+y, y+trow)]\n",
    "    return n>=1\n",
    "pascal_triangle(6) "
   ]
  },
  {
   "cell_type": "markdown",
   "metadata": {
    "colab_type": "text",
    "id": "nnoQUw1m_9o1"
   },
   "source": [
    "# Exercise Question 8:\n",
    "\n",
    "Write a recursive function that returns the factorial of a number"
   ]
  },
  {
   "cell_type": "code",
   "execution_count": 1,
   "metadata": {
    "colab": {},
    "colab_type": "code",
    "id": "llgOoEbMAT4J"
   },
   "outputs": [
    {
     "data": {
      "text/plain": [
       "120"
      ]
     },
     "execution_count": 1,
     "metadata": {},
     "output_type": "execute_result"
    }
   ],
   "source": [
    "def factorial(n):\n",
    "    if n==1:\n",
    "        return 1\n",
    "    else:\n",
    "        return n*factorial(n-1)\n",
    "factorial(5)"
   ]
  },
  {
   "cell_type": "markdown",
   "metadata": {
    "colab_type": "text",
    "id": "E0If6o3tAUUq"
   },
   "source": [
    "# Exercise Question 9:\n",
    "\n",
    "Write a python program to convert a number into it's binary form"
   ]
  },
  {
   "cell_type": "code",
   "execution_count": 78,
   "metadata": {
    "colab": {},
    "colab_type": "code",
    "id": "btfyIzQ5A1ne"
   },
   "outputs": [
    {
     "data": {
      "text/plain": [
       "'1010'"
      ]
     },
     "execution_count": 78,
     "metadata": {},
     "output_type": "execute_result"
    }
   ],
   "source": [
    "bin(128)\n",
    "\n",
    "def get_str(x,n=2):\n",
    "    if x==1:\n",
    "        return str(1)\n",
    "    else:\n",
    "        return str(x%n)+get_str(x//n,n)\n",
    "\n",
    "def binary(x):\n",
    "    string=get_str(x,n=2)\n",
    "    string=list(string)\n",
    "    string.reverse()\n",
    "    return ''.join(string)\n",
    "\n",
    "binary(10)"
   ]
  },
  {
   "cell_type": "markdown",
   "metadata": {
    "colab_type": "text",
    "id": "fi3Ag0U9A11P"
   },
   "source": [
    "# Exercise Question 10\n",
    "\n",
    "Write a function in Python to find GCD of two numbers using recursion"
   ]
  },
  {
   "cell_type": "code",
   "execution_count": 5,
   "metadata": {
    "colab": {},
    "colab_type": "code",
    "id": "Nf1xsBTEBmK4"
   },
   "outputs": [
    {
     "name": "stdout",
     "output_type": "stream",
     "text": [
      "6\n",
      "6\n"
     ]
    }
   ],
   "source": [
    "def GCD(a,b):\n",
    "    if a<b:\n",
    "        temp=a\n",
    "        a=b\n",
    "        b=temp\n",
    "   \n",
    "    if a%b==0:\n",
    "        return b\n",
    "    else:\n",
    "        return GCD(b,a%b)\n",
    "print(GCD(24,18))\n",
    "print(GCD(18,24))"
   ]
  },
  {
   "cell_type": "markdown",
   "metadata": {
    "colab_type": "text",
    "id": "V3VRoL_tBmw8"
   },
   "source": [
    "# Exercise Question 11\n",
    "\n",
    "Write a function in Python to get the largest element of an array using recursion."
   ]
  },
  {
   "cell_type": "code",
   "execution_count": 63,
   "metadata": {
    "colab": {},
    "colab_type": "code",
    "id": "o60GoJy4Bx9N"
   },
   "outputs": [
    {
     "name": "stdout",
     "output_type": "stream",
     "text": [
      "[2, 3, 4, 5, 4, 3, 2, 1, 10]\n",
      "[3, 4, 5, 4, 3, 2, 1, 10]\n",
      "[4, 5, 4, 3, 2, 1, 10]\n",
      "[5, 4, 3, 2, 1, 10]\n",
      "[4, 3, 2, 1, 10]\n",
      "[3, 2, 1, 10]\n",
      "[2, 1, 10]\n",
      "[1, 10]\n",
      "[10]\n",
      "[]\n",
      "10\n"
     ]
    }
   ],
   "source": [
    "def get_large(nums,lg=0):\n",
    "    if len(nums)==0:\n",
    "        return lg\n",
    "    else:\n",
    "        if nums[0]>lg:\n",
    "            print(nums[1:])\n",
    "            return get_large(nums[1:],nums[0])\n",
    "        else:\n",
    "            print(nums[1:])\n",
    "            return get_large(nums[1:],lg)\n",
    "print(get_large([1,2,3,4,5,4,3,2,1,10]))"
   ]
  },
  {
   "cell_type": "markdown",
   "metadata": {
    "colab_type": "text",
    "id": "A8ZM294BByVo"
   },
   "source": [
    "# Exercise Question 12\n",
    "\n",
    "Reverse a string using Recursion"
   ]
  },
  {
   "cell_type": "code",
   "execution_count": 52,
   "metadata": {
    "colab": {},
    "colab_type": "code",
    "id": "_63UrBXsB-cG"
   },
   "outputs": [
    {
     "data": {
      "text/plain": [
       "'olleh'"
      ]
     },
     "execution_count": 52,
     "metadata": {},
     "output_type": "execute_result"
    }
   ],
   "source": [
    "def reverse(string):\n",
    "    if string==\"\":\n",
    "        return \"\"\n",
    "    return string[-1]+reverse(string[:-1])\n",
    "reverse(\"hello\")"
   ]
  },
  {
   "cell_type": "markdown",
   "metadata": {
    "colab_type": "text",
    "id": "slslaYPoB-uf"
   },
   "source": [
    "# Exercise Question 13\n",
    "\n",
    "Write a program in Python to display the n terms of harmonic series and their sum\n",
    "\n",
    "Test Data : \n",
    "\n",
    "Input the number of terms : 5 \n",
    "\n",
    "Expected Output :\n",
    "\n",
    "1/1 + 1/2 + 1/3 + 1/4 + 1/5 + "
   ]
  },
  {
   "cell_type": "code",
   "execution_count": 22,
   "metadata": {
    "colab": {},
    "colab_type": "code",
    "id": "HExiJopHCgtq"
   },
   "outputs": [
    {
     "name": "stdout",
     "output_type": "stream",
     "text": [
      "1/1 + 1/2 + 1/3 + 1/4 + 1/5 + \n",
      "sum is  1.0\n"
     ]
    }
   ],
   "source": [
    "def harmonic_series(n):\n",
    "    temp=0\n",
    "    for i in range(1,n+1):\n",
    "        print(\"1/\"+str(i),end=\" + \")\n",
    "        temp+=1/n\n",
    "    print(\"\")\n",
    "    print(\"sum is \",temp)\n",
    "harmonic_series(5)"
   ]
  },
  {
   "cell_type": "markdown",
   "metadata": {
    "colab_type": "text",
    "id": "doXU9CIUCg4B"
   },
   "source": [
    "# Exercise Question 14\n",
    "\n",
    "Write a program in Python to find the sum of the series 1 +11 + 111 + 1111 + .. n terms"
   ]
  },
  {
   "cell_type": "code",
   "execution_count": 13,
   "metadata": {
    "colab": {},
    "colab_type": "code",
    "id": "abAVQBuWC9cI"
   },
   "outputs": [
    {
     "data": {
      "text/plain": [
       "1234"
      ]
     },
     "execution_count": 13,
     "metadata": {},
     "output_type": "execute_result"
    }
   ],
   "source": [
    "def sum_n(n,t=0):\n",
    "    if n==1:\n",
    "        return 10**t\n",
    "    else:\n",
    "        return n*10**t+sum_n(n-1,t+1)\n",
    "sum_n(3)\n",
    "sum_n(4)"
   ]
  },
  {
   "cell_type": "markdown",
   "metadata": {
    "colab_type": "text",
    "id": "PD3TIvsUC95f"
   },
   "source": [
    "# Exercise Question 15\n",
    "\n",
    "Write a python function to find the first uppercase letter in a string using recursion"
   ]
  },
  {
   "cell_type": "code",
   "execution_count": 32,
   "metadata": {
    "colab": {},
    "colab_type": "code",
    "id": "Uhq5mY3BEFgl"
   },
   "outputs": [
    {
     "data": {
      "text/plain": [
       "'D'"
      ]
     },
     "execution_count": 32,
     "metadata": {},
     "output_type": "execute_result"
    }
   ],
   "source": [
    "string=\"helloDoctor\"\n",
    "def get_ful(string):\n",
    "    i=ord(string[0])\n",
    "    if (i>=65 and i<=90):\n",
    "        return string[0]\n",
    "    else:\n",
    "        return get_ful(string[1:])\n",
    "        \n",
    "get_ful(string)"
   ]
  },
  {
   "cell_type": "markdown",
   "metadata": {
    "colab_type": "text",
    "id": "oYrKP_edEGDN"
   },
   "source": [
    "# Exercise Question 16\n",
    "\n",
    "Print all possible combinations of elements in a given array of size n\n",
    "\n",
    "input: \n",
    "\n",
    "123\n",
    "\n",
    "Output:\n",
    "\n",
    "1 2 3\n",
    "\n",
    "1 3 2\n",
    "\n",
    "2 3 1\n",
    "\n",
    "2 1 3\n",
    "\n",
    "3 1 2\n",
    "\n",
    "3 2 1"
   ]
  },
  {
   "cell_type": "code",
   "execution_count": 139,
   "metadata": {
    "colab": {},
    "colab_type": "code",
    "id": "M3P6V2GjFMhy"
   },
   "outputs": [
    {
     "name": "stdout",
     "output_type": "stream",
     "text": [
      "1 2 3 \n",
      "1 3 2 \n",
      "2 1 3 \n",
      "2 3 1 \n",
      "3 1 2 \n",
      "3 2 1 \n"
     ]
    }
   ],
   "source": [
    "from itertools import permutations\n",
    "def get_perms(arr):\n",
    "    perms=list(permutations(arr, len(arr)))\n",
    "    for i in perms:\n",
    "        for j in i:\n",
    "            print(j,end=\" \")\n",
    "        print()\n",
    "get_perms([1,2,3])"
   ]
  },
  {
   "cell_type": "markdown",
   "metadata": {
    "colab_type": "text",
    "id": "EujAIf5pFNdh"
   },
   "source": [
    "# Exercise Question 17\n",
    "\n",
    "Implement any sorting algorithm in Python"
   ]
  },
  {
   "cell_type": "code",
   "execution_count": 89,
   "metadata": {
    "colab": {},
    "colab_type": "code",
    "id": "ej2DagSuF6cO"
   },
   "outputs": [
    {
     "name": "stdout",
     "output_type": "stream",
     "text": [
      "[11, 12, 22, 25, 34, 64, 90]\n"
     ]
    }
   ],
   "source": [
    "def bubbleSort(arr): \n",
    "    n = len(arr) \n",
    "    for i in range(n-1): \n",
    "        for j in range(0, n-i-1): \n",
    "            if arr[j] > arr[j+1] : \n",
    "                arr[j], arr[j+1] = arr[j+1], arr[j] \n",
    "\n",
    "arr = [64, 34, 25, 12, 22, 11, 90] \n",
    "  \n",
    "bubbleSort(arr) \n",
    "print(arr)"
   ]
  },
  {
   "cell_type": "markdown",
   "metadata": {
    "colab_type": "text",
    "id": "m2mM9WwJF7Qo"
   },
   "source": [
    "# Exercise Question 18\n",
    "\n",
    "Find number of substring occurences in a given string using Python\n",
    "\n",
    "input:\n",
    "\n",
    "today is a good day,   od\n",
    "\n",
    "output:\n",
    "\n",
    "2"
   ]
  },
  {
   "cell_type": "code",
   "execution_count": 34,
   "metadata": {
    "colab": {},
    "colab_type": "code",
    "id": "MI1Nm0l9Gqwa"
   },
   "outputs": [
    {
     "data": {
      "text/plain": [
       "2"
      ]
     },
     "execution_count": 34,
     "metadata": {},
     "output_type": "execute_result"
    }
   ],
   "source": [
    "string=\"gooddaydood\"\n",
    "def count_sb(string,sub):\n",
    "    return string.count(sub)\n",
    "count_sb(string,\"od\")"
   ]
  },
  {
   "cell_type": "markdown",
   "metadata": {
    "colab_type": "text",
    "id": "JakLNqM7GriI"
   },
   "source": [
    "#Exercise Question 19:\n",
    "\n",
    "Given an input amount of change x, write a function to determine the minimum number of coins required to make that amount of change.\n",
    "\n",
    "ex:\n",
    "\n",
    "change(1) = 1 ( 1 one rupee coin )\n",
    "change(21) = 2 ( 1 twenty rupee & 1 one ruppe)\n",
    "change(56) = 3  ( 1 fifty rupee, 1 five rupee & 1 one rupee)"
   ]
  },
  {
   "cell_type": "code",
   "execution_count": 122,
   "metadata": {
    "colab": {},
    "colab_type": "code",
    "id": "y3UgpCQ4H3x0"
   },
   "outputs": [
    {
     "name": "stdout",
     "output_type": "stream",
     "text": [
      "one rupee coint: 1\n"
     ]
    }
   ],
   "source": [
    "def min_change(x,t=None):\n",
    "    nums=list(map(int,list(str(x))))\n",
    "    \n",
    "    if t==None:\n",
    "        t=nums[-1]\n",
    "    \n",
    "    if t>=5:\n",
    "        print(\"five rupee coin:\",t//5)\n",
    "        return min_change(x,t-5*(t//5))\n",
    "    elif t>=2:\n",
    "        print(\"two rupee coin:\",t//2)\n",
    "        return min_change(x,t-2*(t//2))\n",
    "    elif t==1:\n",
    "        print(\"one rupee coint:\",1)\n",
    "        \n",
    "    \n",
    "min_change(1271)"
   ]
  },
  {
   "cell_type": "markdown",
   "metadata": {
    "colab_type": "text",
    "id": "dhVgu9OPH4Nb"
   },
   "source": [
    "# Exercise Question 20\n",
    "\n",
    "Write a python program to check if a number in the range of 500-1000 consists of even numbers. \n",
    "\n",
    "For ex:\n",
    " \n",
    "426 (all even)\n",
    "\n",
    "427 (all not even)\n"
   ]
  },
  {
   "cell_type": "code",
   "execution_count": 39,
   "metadata": {
    "colab": {},
    "colab_type": "code",
    "id": "mLDrmbjKIiCn"
   },
   "outputs": [
    {
     "data": {
      "text/plain": [
       "False"
      ]
     },
     "execution_count": 39,
     "metadata": {},
     "output_type": "execute_result"
    }
   ],
   "source": [
    "def isEven(num):\n",
    "    count=list(filter(lambda x:int(x)%2==0,list(str(num))))\n",
    "    if count==len(list(str(num))):\n",
    "        return True\n",
    "    else:\n",
    "        return False\n",
    "isEven(427)"
   ]
  },
  {
   "cell_type": "markdown",
   "metadata": {
    "colab_type": "text",
    "id": "lN-ahE3ot_VS"
   },
   "source": [
    " # Exercise Question 21\n",
    " \n",
    " Write a Python program to create a lambda function that adds 15 to a given number passed in as an argument, also create a lambda function that multiplies argument x with argument y and print the result"
   ]
  },
  {
   "cell_type": "code",
   "execution_count": 44,
   "metadata": {
    "colab": {},
    "colab_type": "code",
    "id": "2PBH4ujNuA_8"
   },
   "outputs": [
    {
     "data": {
      "text/plain": [
       "25"
      ]
     },
     "execution_count": 44,
     "metadata": {},
     "output_type": "execute_result"
    }
   ],
   "source": [
    "a1=lambda x:x+15\n",
    "a2=lambda x,y:x+y\n",
    "a1(15)\n",
    "a2(15,10)"
   ]
  },
  {
   "cell_type": "markdown",
   "metadata": {
    "colab_type": "text",
    "id": "jejtMlkBuBYH"
   },
   "source": [
    " # Exercise Question 22\n",
    " \n",
    " Write a Python program to square and cube every number in a given list of integers using Lambda."
   ]
  },
  {
   "cell_type": "code",
   "execution_count": 40,
   "metadata": {
    "colab": {},
    "colab_type": "code",
    "id": "L_0JEldJuIv_"
   },
   "outputs": [
    {
     "name": "stdout",
     "output_type": "stream",
     "text": [
      "[(1, 1), (4, 8), (9, 27), (16, 64), (25, 125)]\n"
     ]
    }
   ],
   "source": [
    "nums=[1,2,3,4,5]\n",
    "sq_cbs=list(map(lambda x:(x**2,x**3),nums))\n",
    "print(sq_cbs)"
   ]
  },
  {
   "cell_type": "markdown",
   "metadata": {
    "colab_type": "text",
    "id": "8FWsVl79uI3S"
   },
   "source": [
    "# Exercise Question 23\n",
    "\n",
    "Write a Python program to multiply two given lists using map and lambda"
   ]
  },
  {
   "cell_type": "code",
   "execution_count": 82,
   "metadata": {
    "colab": {},
    "colab_type": "code",
    "id": "cGkb-7tVuQ69"
   },
   "outputs": [
    {
     "data": {
      "text/plain": [
       "[5, 8, 9, 8, 5]"
      ]
     },
     "execution_count": 82,
     "metadata": {},
     "output_type": "execute_result"
    }
   ],
   "source": [
    "from operator import mul\n",
    "nums1=[1,2,3,4,5]\n",
    "nums2=[5,4,3,2,1]\n",
    "list(map(mul,nums1,nums2))"
   ]
  },
  {
   "cell_type": "markdown",
   "metadata": {
    "colab_type": "text",
    "id": "4INeAa_ZuRBp"
   },
   "source": [
    "# Exercise Question 24\n",
    "\n",
    "Write a Python program that multiply each number of given list with a given number using lambda function"
   ]
  },
  {
   "cell_type": "code",
   "execution_count": 42,
   "metadata": {
    "colab": {},
    "colab_type": "code",
    "id": "r-5dEU21uVaf"
   },
   "outputs": [
    {
     "data": {
      "text/plain": [
       "[10, 20, 30, 40, 50]"
      ]
     },
     "execution_count": 42,
     "metadata": {},
     "output_type": "execute_result"
    }
   ],
   "source": [
    "nums=[1,2,3,4,5]\n",
    "y=10\n",
    "new_list=list(map(lambda x:x*y,nums))\n",
    "new_list"
   ]
  },
  {
   "cell_type": "markdown",
   "metadata": {
    "colab_type": "text",
    "id": "En2zzpqkuVkH"
   },
   "source": [
    "# Exercise Question 25\n",
    "\n",
    "Write a Python program that removes the negative numbers from a given list of numbers. Multiply the positive numbers and print the value using lambda function."
   ]
  },
  {
   "cell_type": "code",
   "execution_count": 87,
   "metadata": {
    "colab": {},
    "colab_type": "code",
    "id": "YLiYLQFtugdE"
   },
   "outputs": [
    {
     "data": {
      "text/plain": [
       "120"
      ]
     },
     "execution_count": 87,
     "metadata": {},
     "output_type": "execute_result"
    }
   ],
   "source": [
    "nums=[1,2,3,4,5,-1,-2,-3]\n",
    "nums=list(filter(lambda x:x>=0,nums))\n",
    "from functools import reduce\n",
    "reduce(lambda x,y:x*y, nums)"
   ]
  },
  {
   "cell_type": "markdown",
   "metadata": {
    "colab_type": "text",
    "id": "i8Mkpkmzugur"
   },
   "source": [
    "# Exercise Question 26\n",
    "\n",
    "Write a Python program to find numbers divisible by nineteen or thirteen from a list of numbers using Lambda"
   ]
  },
  {
   "cell_type": "code",
   "execution_count": 10,
   "metadata": {
    "colab": {},
    "colab_type": "code",
    "id": "T5dM6igSuqSg"
   },
   "outputs": [
    {
     "data": {
      "text/plain": [
       "8"
      ]
     },
     "execution_count": 10,
     "metadata": {},
     "output_type": "execute_result"
    }
   ],
   "source": [
    "nums=[13,19,19,13,1,2,3,13,13,26,190]\n",
    "count=len(list(filter(lambda x:(x%13==0 or x%19==0),nums)))\n",
    "count"
   ]
  },
  {
   "cell_type": "markdown",
   "metadata": {
    "colab_type": "text",
    "id": "ZzryoBsLusTJ"
   },
   "source": [
    "# Exercise Question 27\n",
    "\n",
    "Write a Python program to sort a list of tuples using Lambda."
   ]
  },
  {
   "cell_type": "code",
   "execution_count": 123,
   "metadata": {},
   "outputs": [
    {
     "name": "stdout",
     "output_type": "stream",
     "text": [
      "[('yuvaraj', 35), ('dhawan', 53), ('kohli', 94), ('Gambhir', 97), ('dhoni', 98)]\n"
     ]
    }
   ],
   "source": [
    "tuples=[(\"dhoni\",98),(\"kohli\",94),(\"Gambhir\",97),(\"dhawan\",53),(\"yuvaraj\",35)]\n",
    "tuples.sort(key=lambda x:x[1])\n",
    "print(tuples)"
   ]
  }
 ],
 "metadata": {
  "colab": {
   "collapsed_sections": [],
   "name": "Conditional Loops and Functions",
   "provenance": []
  },
  "kernelspec": {
   "display_name": "Python 3",
   "language": "python",
   "name": "python3"
  },
  "language_info": {
   "codemirror_mode": {
    "name": "ipython",
    "version": 3
   },
   "file_extension": ".py",
   "mimetype": "text/x-python",
   "name": "python",
   "nbconvert_exporter": "python",
   "pygments_lexer": "ipython3",
   "version": "3.8.3"
  }
 },
 "nbformat": 4,
 "nbformat_minor": 1
}
